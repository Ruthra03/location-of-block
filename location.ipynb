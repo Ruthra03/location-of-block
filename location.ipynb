{
 "cells": [
  {
   "cell_type": "code",
   "execution_count": 6,
   "metadata": {},
   "outputs": [],
   "source": [
    "import cv2\n",
    "import numpy as np\n",
    "import matplotlib.pyplot as plt"
   ]
  },
  {
   "cell_type": "code",
   "execution_count": 7,
   "metadata": {},
   "outputs": [],
   "source": [
    "source = cv2.imread('source.jpg') # Load the images\n",
    "template = cv2.imread('target.jpg')\n",
    "\n",
    "source_gray = cv2.cvtColor(source, cv2.COLOR_BGR2GRAY) # Convert images to grayscale\n",
    "template_gray = cv2.cvtColor(template, cv2.COLOR_BGR2GRAY)"
   ]
  },
  {
   "cell_type": "code",
   "execution_count": 8,
   "metadata": {},
   "outputs": [],
   "source": [
    "\n",
    "w, h = template_gray.shape[::-1] # Dimension of the template\n",
    "\n",
    "result = cv2.matchTemplate(source_gray, template_gray, cv2.TM_CCOEFF_NORMED) # Template mathing\n",
    "\n",
    "min_val, max_val, min_loc, max_loc = cv2.minMaxLoc(result) # Get the match position\n",
    "\n",
    "top_left = max_loc\n",
    "bottom_right = (top_left[0] + w, top_left[1] + h)\n",
    "cv2.rectangle(source, top_left, bottom_right, (0, 255, 0), 2)\n",
    "\n",
    "cv2.imshow('Detected Template', source)\n",
    "cv2.waitKey(0)\n",
    "cv2.destroyAllWindows()\n"
   ]
  },
  {
   "cell_type": "code",
   "execution_count": 9,
   "metadata": {},
   "outputs": [
    {
     "name": "stdout",
     "output_type": "stream",
     "text": [
      "Match location: (275, 125)\n"
     ]
    }
   ],
   "source": [
    "print(f\"Match location: {max_loc}\")"
   ]
  },
  {
   "cell_type": "code",
   "execution_count": null,
   "metadata": {},
   "outputs": [],
   "source": []
  }
 ],
 "metadata": {
  "kernelspec": {
   "display_name": "Python 3",
   "language": "python",
   "name": "python3"
  },
  "language_info": {
   "codemirror_mode": {
    "name": "ipython",
    "version": 3
   },
   "file_extension": ".py",
   "mimetype": "text/x-python",
   "name": "python",
   "nbconvert_exporter": "python",
   "pygments_lexer": "ipython3",
   "version": "3.12.1"
  }
 },
 "nbformat": 4,
 "nbformat_minor": 2
}
